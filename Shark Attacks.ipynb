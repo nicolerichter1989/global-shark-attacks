{
 "cells": [
  {
   "cell_type": "markdown",
   "metadata": {},
   "source": [
    "# Global Shark Attacks"
   ]
  },
  {
   "cell_type": "markdown",
   "metadata": {},
   "source": [
    "- note\n",
    "- note\n",
    "- note\n",
    "-\n",
    "-\n"
   ]
  },
  {
   "cell_type": "markdown",
   "metadata": {},
   "source": [
    "## Import Libraries"
   ]
  },
  {
   "cell_type": "code",
   "execution_count": 61,
   "metadata": {},
   "outputs": [],
   "source": [
    "import pandas as pd\n",
    "import numpy as np\n",
    "import seaborn as sns\n",
    "import matplotlib.pyplot as plt\n",
    "\n",
    "import statsmodels.api as sm\n",
    "from statsmodels.formula.api import ols\n",
    "from scipy import stats\n",
    "from scipy.stats.mstats import winsorize\n",
    "\n",
    "import math\n",
    "from sklearn.preprocessing import OneHotEncoder, Normalizer, LabelEncoder, StandardScaler, MinMaxScaler\n",
    "from sklearn.model_selection import train_test_split\n",
    "from sklearn.linear_model import LinearRegression\n",
    "from sklearn.metrics import mean_squared_error, r2_score\n",
    "\n",
    "from sklearn.neighbors import KNeighborsRegressor\n",
    "\n",
    "import warnings\n",
    "warnings.filterwarnings('ignore')"
   ]
  },
  {
   "cell_type": "markdown",
   "metadata": {},
   "source": [
    "## Import Data"
   ]
  },
  {
   "cell_type": "code",
   "execution_count": 62,
   "metadata": {},
   "outputs": [],
   "source": [
    "data = pd.read_csv('attacks.csv',encoding='latin-1')"
   ]
  },
  {
   "cell_type": "markdown",
   "metadata": {},
   "source": [
    "## First Review and Clean Data"
   ]
  },
  {
   "cell_type": "code",
   "execution_count": 63,
   "metadata": {
    "scrolled": false
   },
   "outputs": [
    {
     "data": {
      "text/plain": [
       "(25723, 24)"
      ]
     },
     "execution_count": 63,
     "metadata": {},
     "output_type": "execute_result"
    }
   ],
   "source": [
    "data.shape"
   ]
  },
  {
   "cell_type": "code",
   "execution_count": 64,
   "metadata": {},
   "outputs": [
    {
     "data": {
      "text/html": [
       "<div>\n",
       "<style scoped>\n",
       "    .dataframe tbody tr th:only-of-type {\n",
       "        vertical-align: middle;\n",
       "    }\n",
       "\n",
       "    .dataframe tbody tr th {\n",
       "        vertical-align: top;\n",
       "    }\n",
       "\n",
       "    .dataframe thead th {\n",
       "        text-align: right;\n",
       "    }\n",
       "</style>\n",
       "<table border=\"1\" class=\"dataframe\">\n",
       "  <thead>\n",
       "    <tr style=\"text-align: right;\">\n",
       "      <th></th>\n",
       "      <th>Case Number</th>\n",
       "      <th>Date</th>\n",
       "      <th>Year</th>\n",
       "      <th>Type</th>\n",
       "      <th>Country</th>\n",
       "      <th>Area</th>\n",
       "      <th>Location</th>\n",
       "      <th>Activity</th>\n",
       "      <th>Name</th>\n",
       "      <th>Sex</th>\n",
       "      <th>...</th>\n",
       "      <th>Species</th>\n",
       "      <th>Investigator or Source</th>\n",
       "      <th>pdf</th>\n",
       "      <th>href formula</th>\n",
       "      <th>href</th>\n",
       "      <th>Case Number.1</th>\n",
       "      <th>Case Number.2</th>\n",
       "      <th>original order</th>\n",
       "      <th>Unnamed: 22</th>\n",
       "      <th>Unnamed: 23</th>\n",
       "    </tr>\n",
       "  </thead>\n",
       "  <tbody>\n",
       "    <tr>\n",
       "      <th>0</th>\n",
       "      <td>2018.06.25</td>\n",
       "      <td>25-Jun-2018</td>\n",
       "      <td>2018.0</td>\n",
       "      <td>Boating</td>\n",
       "      <td>USA</td>\n",
       "      <td>California</td>\n",
       "      <td>Oceanside, San Diego County</td>\n",
       "      <td>Paddling</td>\n",
       "      <td>Julie Wolfe</td>\n",
       "      <td>F</td>\n",
       "      <td>...</td>\n",
       "      <td>White shark</td>\n",
       "      <td>R. Collier, GSAF</td>\n",
       "      <td>2018.06.25-Wolfe.pdf</td>\n",
       "      <td>http://sharkattackfile.net/spreadsheets/pdf_di...</td>\n",
       "      <td>http://sharkattackfile.net/spreadsheets/pdf_di...</td>\n",
       "      <td>2018.06.25</td>\n",
       "      <td>2018.06.25</td>\n",
       "      <td>6303.0</td>\n",
       "      <td>NaN</td>\n",
       "      <td>NaN</td>\n",
       "    </tr>\n",
       "    <tr>\n",
       "      <th>1</th>\n",
       "      <td>2018.06.18</td>\n",
       "      <td>18-Jun-2018</td>\n",
       "      <td>2018.0</td>\n",
       "      <td>Unprovoked</td>\n",
       "      <td>USA</td>\n",
       "      <td>Georgia</td>\n",
       "      <td>St. Simon Island, Glynn County</td>\n",
       "      <td>Standing</td>\n",
       "      <td>Adyson McNeely</td>\n",
       "      <td>F</td>\n",
       "      <td>...</td>\n",
       "      <td>NaN</td>\n",
       "      <td>K.McMurray, TrackingSharks.com</td>\n",
       "      <td>2018.06.18-McNeely.pdf</td>\n",
       "      <td>http://sharkattackfile.net/spreadsheets/pdf_di...</td>\n",
       "      <td>http://sharkattackfile.net/spreadsheets/pdf_di...</td>\n",
       "      <td>2018.06.18</td>\n",
       "      <td>2018.06.18</td>\n",
       "      <td>6302.0</td>\n",
       "      <td>NaN</td>\n",
       "      <td>NaN</td>\n",
       "    </tr>\n",
       "    <tr>\n",
       "      <th>2</th>\n",
       "      <td>2018.06.09</td>\n",
       "      <td>09-Jun-2018</td>\n",
       "      <td>2018.0</td>\n",
       "      <td>Invalid</td>\n",
       "      <td>USA</td>\n",
       "      <td>Hawaii</td>\n",
       "      <td>Habush, Oahu</td>\n",
       "      <td>Surfing</td>\n",
       "      <td>John Denges</td>\n",
       "      <td>M</td>\n",
       "      <td>...</td>\n",
       "      <td>NaN</td>\n",
       "      <td>K.McMurray, TrackingSharks.com</td>\n",
       "      <td>2018.06.09-Denges.pdf</td>\n",
       "      <td>http://sharkattackfile.net/spreadsheets/pdf_di...</td>\n",
       "      <td>http://sharkattackfile.net/spreadsheets/pdf_di...</td>\n",
       "      <td>2018.06.09</td>\n",
       "      <td>2018.06.09</td>\n",
       "      <td>6301.0</td>\n",
       "      <td>NaN</td>\n",
       "      <td>NaN</td>\n",
       "    </tr>\n",
       "    <tr>\n",
       "      <th>3</th>\n",
       "      <td>2018.06.08</td>\n",
       "      <td>08-Jun-2018</td>\n",
       "      <td>2018.0</td>\n",
       "      <td>Unprovoked</td>\n",
       "      <td>AUSTRALIA</td>\n",
       "      <td>New South Wales</td>\n",
       "      <td>Arrawarra Headland</td>\n",
       "      <td>Surfing</td>\n",
       "      <td>male</td>\n",
       "      <td>M</td>\n",
       "      <td>...</td>\n",
       "      <td>2 m shark</td>\n",
       "      <td>B. Myatt, GSAF</td>\n",
       "      <td>2018.06.08-Arrawarra.pdf</td>\n",
       "      <td>http://sharkattackfile.net/spreadsheets/pdf_di...</td>\n",
       "      <td>http://sharkattackfile.net/spreadsheets/pdf_di...</td>\n",
       "      <td>2018.06.08</td>\n",
       "      <td>2018.06.08</td>\n",
       "      <td>6300.0</td>\n",
       "      <td>NaN</td>\n",
       "      <td>NaN</td>\n",
       "    </tr>\n",
       "    <tr>\n",
       "      <th>4</th>\n",
       "      <td>2018.06.04</td>\n",
       "      <td>04-Jun-2018</td>\n",
       "      <td>2018.0</td>\n",
       "      <td>Provoked</td>\n",
       "      <td>MEXICO</td>\n",
       "      <td>Colima</td>\n",
       "      <td>La Ticla</td>\n",
       "      <td>Free diving</td>\n",
       "      <td>Gustavo Ramos</td>\n",
       "      <td>M</td>\n",
       "      <td>...</td>\n",
       "      <td>Tiger shark, 3m</td>\n",
       "      <td>A .Kipper</td>\n",
       "      <td>2018.06.04-Ramos.pdf</td>\n",
       "      <td>http://sharkattackfile.net/spreadsheets/pdf_di...</td>\n",
       "      <td>http://sharkattackfile.net/spreadsheets/pdf_di...</td>\n",
       "      <td>2018.06.04</td>\n",
       "      <td>2018.06.04</td>\n",
       "      <td>6299.0</td>\n",
       "      <td>NaN</td>\n",
       "      <td>NaN</td>\n",
       "    </tr>\n",
       "  </tbody>\n",
       "</table>\n",
       "<p>5 rows × 24 columns</p>\n",
       "</div>"
      ],
      "text/plain": [
       "  Case Number         Date    Year        Type    Country             Area  \\\n",
       "0  2018.06.25  25-Jun-2018  2018.0     Boating        USA       California   \n",
       "1  2018.06.18  18-Jun-2018  2018.0  Unprovoked        USA          Georgia   \n",
       "2  2018.06.09  09-Jun-2018  2018.0     Invalid        USA           Hawaii   \n",
       "3  2018.06.08  08-Jun-2018  2018.0  Unprovoked  AUSTRALIA  New South Wales   \n",
       "4  2018.06.04  04-Jun-2018  2018.0    Provoked     MEXICO           Colima   \n",
       "\n",
       "                         Location     Activity             Name Sex   ...  \\\n",
       "0     Oceanside, San Diego County     Paddling      Julie Wolfe    F  ...   \n",
       "1  St. Simon Island, Glynn County     Standing  Adyson McNeely     F  ...   \n",
       "2                    Habush, Oahu      Surfing      John Denges    M  ...   \n",
       "3              Arrawarra Headland      Surfing             male    M  ...   \n",
       "4                        La Ticla  Free diving   Gustavo Ramos     M  ...   \n",
       "\n",
       "          Species           Investigator or Source                       pdf  \\\n",
       "0      White shark                R. Collier, GSAF      2018.06.25-Wolfe.pdf   \n",
       "1              NaN  K.McMurray, TrackingSharks.com    2018.06.18-McNeely.pdf   \n",
       "2              NaN  K.McMurray, TrackingSharks.com     2018.06.09-Denges.pdf   \n",
       "3        2 m shark                  B. Myatt, GSAF  2018.06.08-Arrawarra.pdf   \n",
       "4  Tiger shark, 3m                       A .Kipper      2018.06.04-Ramos.pdf   \n",
       "\n",
       "                                        href formula  \\\n",
       "0  http://sharkattackfile.net/spreadsheets/pdf_di...   \n",
       "1  http://sharkattackfile.net/spreadsheets/pdf_di...   \n",
       "2  http://sharkattackfile.net/spreadsheets/pdf_di...   \n",
       "3  http://sharkattackfile.net/spreadsheets/pdf_di...   \n",
       "4  http://sharkattackfile.net/spreadsheets/pdf_di...   \n",
       "\n",
       "                                                href Case Number.1  \\\n",
       "0  http://sharkattackfile.net/spreadsheets/pdf_di...    2018.06.25   \n",
       "1  http://sharkattackfile.net/spreadsheets/pdf_di...    2018.06.18   \n",
       "2  http://sharkattackfile.net/spreadsheets/pdf_di...    2018.06.09   \n",
       "3  http://sharkattackfile.net/spreadsheets/pdf_di...    2018.06.08   \n",
       "4  http://sharkattackfile.net/spreadsheets/pdf_di...    2018.06.04   \n",
       "\n",
       "  Case Number.2 original order Unnamed: 22 Unnamed: 23  \n",
       "0    2018.06.25         6303.0         NaN         NaN  \n",
       "1    2018.06.18         6302.0         NaN         NaN  \n",
       "2    2018.06.09         6301.0         NaN         NaN  \n",
       "3    2018.06.08         6300.0         NaN         NaN  \n",
       "4    2018.06.04         6299.0         NaN         NaN  \n",
       "\n",
       "[5 rows x 24 columns]"
      ]
     },
     "execution_count": 64,
     "metadata": {},
     "output_type": "execute_result"
    }
   ],
   "source": [
    "data.head()"
   ]
  },
  {
   "cell_type": "markdown",
   "metadata": {},
   "source": [
    "### Cleaning Columns"
   ]
  },
  {
   "cell_type": "code",
   "execution_count": 29,
   "metadata": {
    "scrolled": false
   },
   "outputs": [
    {
     "name": "stdout",
     "output_type": "stream",
     "text": [
      "0               2400\n",
      "1990.05.10         2\n",
      "1920.00.00.b       2\n",
      "2012.09.02.b       2\n",
      "1966.12.26         2\n",
      "                ... \n",
      "1888.01.22         1\n",
      "1974.03.21         1\n",
      "1960.08.04.b       1\n",
      "1905.03.25         1\n",
      "1949.01.13         1\n",
      "Name: Case Number, Length: 6287, dtype: int64 \n",
      "\n",
      "1957           11\n",
      "1942            9\n",
      "1956            8\n",
      "1950            7\n",
      "1958            7\n",
      "               ..\n",
      "06-Mar-2004     1\n",
      "02-Feb-1968     1\n",
      "13-Jul-2006     1\n",
      "17-Nov-2002     1\n",
      "Jan-1936        1\n",
      "Name: Date, Length: 5433, dtype: int64 \n",
      "\n",
      "2015.0    143\n",
      "2017.0    136\n",
      "2016.0    130\n",
      "2011.0    128\n",
      "2014.0    127\n",
      "         ... \n",
      "1753.0      1\n",
      "77.0        1\n",
      "1785.0      1\n",
      "1580.0      1\n",
      "1543.0      1\n",
      "Name: Year, Length: 249, dtype: int64 \n",
      "\n",
      "Unprovoked      4595\n",
      "Provoked         574\n",
      "Invalid          547\n",
      "Sea Disaster     239\n",
      "Boating          203\n",
      "Boat             137\n",
      "Questionable       2\n",
      "Boatomg            1\n",
      "Name: Type, dtype: int64 \n",
      "\n",
      "USA                           2229\n",
      "AUSTRALIA                     1338\n",
      "SOUTH AFRICA                   579\n",
      "PAPUA NEW GUINEA               134\n",
      "NEW ZEALAND                    128\n",
      "                              ... \n",
      "AFRICA                           1\n",
      "ARUBA                            1\n",
      "ROATAN                           1\n",
      "ANDAMAN / NICOBAR ISLANDAS       1\n",
      "SWEDEN                           1\n",
      "Name: Country, Length: 212, dtype: int64 \n",
      "\n",
      "Florida             1037\n",
      "New South Wales      486\n",
      "Queensland           311\n",
      "Hawaii               298\n",
      "California           290\n",
      "                    ... \n",
      "Nicoya Peninsula       1\n",
      "Minerva Reef           1\n",
      "Dar-es-Salaam          1\n",
      "Shanghai               1\n",
      "East New Britain       1\n",
      "Name: Area, Length: 825, dtype: int64 \n",
      "\n",
      "New Smyrna Beach, Volusia County                              163\n",
      "Daytona Beach, Volusia County                                  30\n",
      "Ponce Inlet, Volusia County                                    20\n",
      "Melbourne Beach, Brevard County                                18\n",
      "Myrtle Beach, Horry County                                     17\n",
      "                                                             ... \n",
      "Coquimbo                                                        1\n",
      "Garvies Beach                                                   1\n",
      "Bear Harbor, Mendocino County                                   1\n",
      "Papaikou plantation                                             1\n",
      "Beachway Avenue Approach, New Smyrna Beach, Volusia County      1\n",
      "Name: Location, Length: 4108, dtype: int64 \n",
      "\n",
      "Surfing                                                        971\n",
      "Swimming                                                       869\n",
      "Fishing                                                        431\n",
      "Spearfishing                                                   333\n",
      "Bathing                                                        162\n",
      "                                                              ... \n",
      "Fishing / Wading                                                 1\n",
      "Swimming / surfing                                               1\n",
      "Spear fishing, removing fish from spear                          1\n",
      "Petting captive sharks                                           1\n",
      "Adrift on raft after their ship was sunk by an Axis raider       1\n",
      "Name: Activity, Length: 1532, dtype: int64 \n",
      "\n",
      "male              550\n",
      "female             97\n",
      "boy                23\n",
      "2 males            16\n",
      "boat               14\n",
      "                 ... \n",
      "Joanna Salmon       1\n",
      "Seldon Jee          1\n",
      "Kyle Dickens        1\n",
      "Jill Varney         1\n",
      "Eleanor Nelson      1\n",
      "Name: Name, Length: 5230, dtype: int64 \n",
      "\n",
      "M      5094\n",
      "F       637\n",
      "M         2\n",
      "N         2\n",
      "lli       1\n",
      ".         1\n",
      "Name: Sex , dtype: int64 \n",
      "\n",
      "17                         154\n",
      "18                         150\n",
      "19                         142\n",
      "20                         141\n",
      "15                         139\n",
      "                          ... \n",
      "37, 67, 35, 27,  ? & 27      1\n",
      "A.M.                         1\n",
      "20                           1\n",
      "X                            1\n",
      "16 to 18                     1\n",
      "Name: Age, Length: 157, dtype: int64 \n",
      "\n",
      "FATAL                                                                       802\n",
      "Survived                                                                     97\n",
      "Foot bitten                                                                  87\n",
      "No injury                                                                    82\n",
      "Leg bitten                                                                   72\n",
      "                                                                           ... \n",
      "Leg severed mid-thigh                                                         1\n",
      "Left heel lacerated                                                           1\n",
      "No injury to occupant, shark lifted canoe's outrigger                         1\n",
      "Injuries to arm & leg by hooked shark   PROVOKED INCIDENT                     1\n",
      "No injury; onlookers saw 10' shark heading for him and lifted him ashore      1\n",
      "Name: Injury, Length: 3737, dtype: int64 \n",
      "\n",
      "N          4293\n",
      "Y          1388\n",
      "UNKNOWN      71\n",
      " N            7\n",
      "M             1\n",
      "N             1\n",
      "y             1\n",
      "2017          1\n",
      "Name: Fatal (Y/N), dtype: int64 \n",
      "\n",
      "Afternoon                      187\n",
      "11h00                          128\n",
      "Morning                        121\n",
      "12h00                          109\n",
      "15h00                          108\n",
      "                              ... \n",
      "11h01 -time of ship sinking      1\n",
      "Just before sundown              1\n",
      ">17h30                           1\n",
      "15h44                            1\n",
      "15j45                            1\n",
      "Name: Time, Length: 366, dtype: int64 \n",
      "\n",
      "White shark                                           163\n",
      "Shark involvement prior to death was not confirmed    105\n",
      "Invalid                                               102\n",
      "Shark involvement not confirmed                        88\n",
      "Tiger shark                                            73\n",
      "                                                     ... \n",
      "Grey reef shark, 5' to 8'                               1\n",
      "1.8 m [6'], 136-kg [300-lb] shark                       1\n",
      "Oceanic whitetip shark, 6'                              1\n",
      "White shark, 12' to 15'                                 1\n",
      "Possiby white shark                                     1\n",
      "Name: Species , Length: 1549, dtype: int64 \n",
      "\n",
      "C. Moore, GSAF                                                                                                                   105\n",
      "C. Creswell, GSAF                                                                                                                 92\n",
      "S. Petersohn, GSAF                                                                                                                82\n",
      "R. Collier                                                                                                                        55\n",
      "T. Peake, GSAF                                                                                                                    48\n",
      "                                                                                                                                ... \n",
      "G. Smit, P. Landsberg, M.D., M. Levine, GSAF                                                                                       1\n",
      "H. Frederick, NSB News, 3/24/2012                                                                                                  1\n",
      "G. Hurley                                                                                                                          1\n",
      "Radio New Zealand & Les Nouvelles Caledoniennes, 5/23/2011                                                                         1\n",
      "J. Borg, pp.80-81; L. Taylor (1993), pp.112-113. Note: Hawaii Department of Land and Natural Resources lists date as 2/1/1992      1\n",
      "Name: Investigator or Source, Length: 4969, dtype: int64 \n",
      "\n",
      "1906.09.27.R.a&b-Munich-Swede.pdf    2\n",
      "1921.11.27.a-b-Jack.pdf              2\n",
      "1907.10.16.R-HongKong.pdf            2\n",
      "1929.03.04.a-b.Roads-Aldridge.pdf    2\n",
      "1935.06.05.R-SolomonIslands.pdf      2\n",
      "                                    ..\n",
      "1950.04.09.R-2Toes.pdf               1\n",
      "1962.12.00-Swift.pdf                 1\n",
      "2016.06.24-Velez.pdf                 1\n",
      "1913.12.26.R-Schwertz.pdf            1\n",
      "1964.10.04-Henderson.pdf             1\n",
      "Name: pdf, Length: 6291, dtype: int64 \n",
      "\n",
      "http://sharkattackfile.net/spreadsheets/pdf_directory/1907.10.16.R-HongKong.pdf              2\n",
      "http://sharkattackfile.net/spreadsheets/pdf_directory/1898.00.00.R-Syria.pdf                 2\n",
      "http://sharkattackfile.net/spreadsheets/pdf_directory/1916.07.12.a-b-Stillwell-Fisher.pdf    2\n",
      "http://sharkattackfile.net/spreadsheets/pdf_directory/1921.11.27.a-b-Jack.pdf                2\n",
      "http://sharkattackfile.net/spreadsheets/pdf_directory/1906.09.27.R.a&b-Munich-Swede.pdf      2\n",
      "                                                                                            ..\n",
      "http://sharkattackfile.net/spreadsheets/pdf_directory/2016.01.25-Waldman.pdf                 1\n",
      "http://sharkattackfile.net/spreadsheets/pdf_directory/2009.05.25-Joseph.pdf                  1\n",
      "http://sharkattackfile.net/spreadsheets/pdf_directory/1865.00.00-Barrett.pdf                 1\n",
      "http://sharkattackfile.net/spreadsheets/pdf_directory/1911.10.25-Toby.pdf                    1\n",
      "http://sharkattackfile.net/spreadsheets/pdf_directory/1998.12.18-vanderMerwe.pdf             1\n"
     ]
    },
    {
     "name": "stdout",
     "output_type": "stream",
     "text": [
      "Name: href formula, Length: 6290, dtype: int64 \n",
      "\n",
      "http://sharkattackfile.net/spreadsheets/pdf_directory/w014.01.25-Grant.pdf                  4\n",
      "http://sharkattackfile.net/spreadsheets/pdf_directory/2014.10.02.b-Vandenberg.pdf           3\n",
      "http://sharkattackfile.net/spreadsheets/pdf_directory/1907.10.16.R-HongKong.pdf             2\n",
      "http://sharkattackfile.net/spreadsheets/pdf_directory/1935.06.05.R-SolomonIslands.pdf       2\n",
      "http://sharkattackfile.net/spreadsheets/pdf_directory/1931.09.21.a-b-Holaday-Barrows.pdf    2\n",
      "                                                                                           ..\n",
      "http://sharkattackfile.net/spreadsheets/pdf_directory/1959.08.11-Tsuchiya.pdf               1\n",
      "http://sharkattackfile.net/spreadsheets/pdf_directory/1957.07.09-Kris.pdf                   1\n",
      "http://sharkattackfile.net/spreadsheets/pdf_directory/1955.08.30.a-DaleStrand.pdf           1\n",
      "http://sharkattackfile.net/spreadsheets/pdf_directory/2013.06.14.R-Foreman.pdf              1\n",
      "http://sharkattackfile.net/spreadsheets/pdf_directory/1998.12.18-vanderMerwe.pdf            1\n",
      "Name: href, Length: 6285, dtype: int64 \n",
      "\n",
      "1990.05.10        2\n",
      "1980.07.00        2\n",
      "1915.07.06.a.R    2\n",
      "1913.08.27.R      2\n",
      "2005.04.06        2\n",
      "                 ..\n",
      "2014.08.09.R      1\n",
      "2013.12.16        1\n",
      "1888.01.22        1\n",
      "1974.03.21        1\n",
      "1949.01.13        1\n",
      "Name: Case Number.1, Length: 6285, dtype: int64 \n",
      "\n",
      "2013.10.05      2\n",
      "1966.12.26      2\n",
      "1980.07.00      2\n",
      "2014.08.02      2\n",
      "1962.06.11.b    2\n",
      "               ..\n",
      "1888.01.22      1\n",
      "1974.03.21      1\n",
      "1960.08.04.b    1\n",
      "1905.03.25      1\n",
      "1949.01.13      1\n",
      "Name: Case Number.2, Length: 6286, dtype: int64 \n",
      "\n",
      "569.0     2\n",
      "5639.0    1\n",
      "4754.0    1\n",
      "2899.0    1\n",
      "5259.0    1\n",
      "         ..\n",
      "439.0     1\n",
      "257.0     1\n",
      "4425.0    1\n",
      "4065.0    1\n",
      "6144.0    1\n",
      "Name: original order, Length: 6308, dtype: int64 \n",
      "\n",
      "stopped here    1\n",
      "Name: Unnamed: 22, dtype: int64 \n",
      "\n",
      "change filename    1\n",
      "Teramo             1\n",
      "Name: Unnamed: 23, dtype: int64 \n",
      "\n"
     ]
    }
   ],
   "source": [
    "for col in data:\n",
    "    print(data[col].value_counts(), '\\n')\n",
    "\n",
    "# replace Case Numer with unique identifier\n",
    "# extract month and year from date (where possible)\n",
    "# clean year to identical format or extract from date\n",
    "# check if years are the same from date and year\n",
    "# Type ??????? what do those categories mean and are they actually reliable? probaly objective call\n",
    "# check country values if there are somekind of double counts?\n",
    "# Area? what to do with the Area? probably has a connection to the kind of shark\n",
    "# Location? what to do with Location? probably has a connection to the kind of shark\n",
    "# Activity - Cleaning down to a few categories and sum the others under unknown\n",
    "# name . drop\n",
    "# sex\n",
    "# age\n",
    "# injury\n",
    "# fatal"
   ]
  },
  {
   "cell_type": "markdown",
   "metadata": {},
   "source": [
    "After a first brief review of the data it becomes clear very fast that this data will require a lot of data cleaning which is why I will review column by columns."
   ]
  },
  {
   "cell_type": "markdown",
   "metadata": {},
   "source": [
    "#### Clean Column Names"
   ]
  },
  {
   "cell_type": "code",
   "execution_count": 65,
   "metadata": {},
   "outputs": [
    {
     "data": {
      "text/plain": [
       "Index(['Case Number', 'Date', 'Year', 'Type', 'Country', 'Area', 'Location',\n",
       "       'Activity', 'Name', 'Sex ', 'Age', 'Injury', 'Fatal (Y/N)', 'Time',\n",
       "       'Species ', 'Investigator or Source', 'pdf', 'href formula', 'href',\n",
       "       'Case Number.1', 'Case Number.2', 'original order', 'Unnamed: 22',\n",
       "       'Unnamed: 23'],\n",
       "      dtype='object')"
      ]
     },
     "execution_count": 65,
     "metadata": {},
     "output_type": "execute_result"
    }
   ],
   "source": [
    "data.columns"
   ]
  },
  {
   "cell_type": "markdown",
   "metadata": {},
   "source": [
    "**Changes needed:** <br>\n",
    "lower case <br>\n",
    "underscore '_' <br>\n",
    "drop empty spaces ' ', <br>\n",
    "replace '.' with underscore '_' <br>\n",
    "remove (Y/N)"
   ]
  },
  {
   "cell_type": "code",
   "execution_count": 68,
   "metadata": {},
   "outputs": [],
   "source": [
    "data.columns = [column.lower().replace('.', '').replace(' ','_').replace(':','').replace('(y/n)','') for column in data.columns]"
   ]
  },
  {
   "cell_type": "code",
   "execution_count": 69,
   "metadata": {},
   "outputs": [
    {
     "data": {
      "text/plain": [
       "Index(['case_number', 'date', 'year', 'type', 'country', 'area', 'location',\n",
       "       'activity', 'name', 'sex_', 'age', 'injury', 'fatal_', 'time',\n",
       "       'species_', 'investigator_or_source', 'pdf', 'href_formula', 'href',\n",
       "       'case_number1', 'case_number2', 'original_order', 'unnamed_22',\n",
       "       'unnamed_23'],\n",
       "      dtype='object')"
      ]
     },
     "execution_count": 69,
     "metadata": {},
     "output_type": "execute_result"
    }
   ],
   "source": [
    "data.columns"
   ]
  },
  {
   "cell_type": "markdown",
   "metadata": {},
   "source": [
    "#### case_number, case_number1, case_number2"
   ]
  },
  {
   "cell_type": "code",
   "execution_count": 71,
   "metadata": {},
   "outputs": [],
   "source": [
    "cases = data[['date', 'year', 'case_number', 'case_number1', 'case_number2']].copy()"
   ]
  },
  {
   "cell_type": "code",
   "execution_count": 73,
   "metadata": {},
   "outputs": [
    {
     "data": {
      "text/html": [
       "<div>\n",
       "<style scoped>\n",
       "    .dataframe tbody tr th:only-of-type {\n",
       "        vertical-align: middle;\n",
       "    }\n",
       "\n",
       "    .dataframe tbody tr th {\n",
       "        vertical-align: top;\n",
       "    }\n",
       "\n",
       "    .dataframe thead th {\n",
       "        text-align: right;\n",
       "    }\n",
       "</style>\n",
       "<table border=\"1\" class=\"dataframe\">\n",
       "  <thead>\n",
       "    <tr style=\"text-align: right;\">\n",
       "      <th></th>\n",
       "      <th>date</th>\n",
       "      <th>year</th>\n",
       "      <th>case_number</th>\n",
       "      <th>case_number1</th>\n",
       "      <th>case_number2</th>\n",
       "    </tr>\n",
       "  </thead>\n",
       "  <tbody>\n",
       "    <tr>\n",
       "      <th>0</th>\n",
       "      <td>25-Jun-2018</td>\n",
       "      <td>2018.0</td>\n",
       "      <td>2018.06.25</td>\n",
       "      <td>2018.06.25</td>\n",
       "      <td>2018.06.25</td>\n",
       "    </tr>\n",
       "    <tr>\n",
       "      <th>1</th>\n",
       "      <td>18-Jun-2018</td>\n",
       "      <td>2018.0</td>\n",
       "      <td>2018.06.18</td>\n",
       "      <td>2018.06.18</td>\n",
       "      <td>2018.06.18</td>\n",
       "    </tr>\n",
       "    <tr>\n",
       "      <th>2</th>\n",
       "      <td>09-Jun-2018</td>\n",
       "      <td>2018.0</td>\n",
       "      <td>2018.06.09</td>\n",
       "      <td>2018.06.09</td>\n",
       "      <td>2018.06.09</td>\n",
       "    </tr>\n",
       "    <tr>\n",
       "      <th>3</th>\n",
       "      <td>08-Jun-2018</td>\n",
       "      <td>2018.0</td>\n",
       "      <td>2018.06.08</td>\n",
       "      <td>2018.06.08</td>\n",
       "      <td>2018.06.08</td>\n",
       "    </tr>\n",
       "    <tr>\n",
       "      <th>4</th>\n",
       "      <td>04-Jun-2018</td>\n",
       "      <td>2018.0</td>\n",
       "      <td>2018.06.04</td>\n",
       "      <td>2018.06.04</td>\n",
       "      <td>2018.06.04</td>\n",
       "    </tr>\n",
       "  </tbody>\n",
       "</table>\n",
       "</div>"
      ],
      "text/plain": [
       "          date    year case_number case_number1 case_number2\n",
       "0  25-Jun-2018  2018.0  2018.06.25   2018.06.25   2018.06.25\n",
       "1  18-Jun-2018  2018.0  2018.06.18   2018.06.18   2018.06.18\n",
       "2  09-Jun-2018  2018.0  2018.06.09   2018.06.09   2018.06.09\n",
       "3  08-Jun-2018  2018.0  2018.06.08   2018.06.08   2018.06.08\n",
       "4  04-Jun-2018  2018.0  2018.06.04   2018.06.04   2018.06.04"
      ]
     },
     "execution_count": 73,
     "metadata": {},
     "output_type": "execute_result"
    }
   ],
   "source": [
    "cases.head()"
   ]
  },
  {
   "cell_type": "code",
   "execution_count": 74,
   "metadata": {},
   "outputs": [
    {
     "name": "stdout",
     "output_type": "stream",
     "text": [
      "1957           11\n",
      "1942            9\n",
      "1956            8\n",
      "1950            7\n",
      "1958            7\n",
      "               ..\n",
      "06-Mar-2004     1\n",
      "02-Feb-1968     1\n",
      "13-Jul-2006     1\n",
      "17-Nov-2002     1\n",
      "Jan-1936        1\n",
      "Name: date, Length: 5433, dtype: int64 \n",
      "\n",
      "2015.0    143\n",
      "2017.0    136\n",
      "2016.0    130\n",
      "2011.0    128\n",
      "2014.0    127\n",
      "         ... \n",
      "1753.0      1\n",
      "77.0        1\n",
      "1785.0      1\n",
      "1580.0      1\n",
      "1543.0      1\n",
      "Name: year, Length: 249, dtype: int64 \n",
      "\n",
      "0               2400\n",
      "1990.05.10         2\n",
      "1920.00.00.b       2\n",
      "2012.09.02.b       2\n",
      "1966.12.26         2\n",
      "                ... \n",
      "1888.01.22         1\n",
      "1974.03.21         1\n",
      "1960.08.04.b       1\n",
      "1905.03.25         1\n",
      "1949.01.13         1\n",
      "Name: case_number, Length: 6287, dtype: int64 \n",
      "\n",
      "1990.05.10        2\n",
      "1980.07.00        2\n",
      "1915.07.06.a.R    2\n",
      "1913.08.27.R      2\n",
      "2005.04.06        2\n",
      "                 ..\n",
      "2014.08.09.R      1\n",
      "2013.12.16        1\n",
      "1888.01.22        1\n",
      "1974.03.21        1\n",
      "1949.01.13        1\n",
      "Name: case_number1, Length: 6285, dtype: int64 \n",
      "\n",
      "2013.10.05      2\n",
      "1966.12.26      2\n",
      "1980.07.00      2\n",
      "2014.08.02      2\n",
      "1962.06.11.b    2\n",
      "               ..\n",
      "1888.01.22      1\n",
      "1974.03.21      1\n",
      "1960.08.04.b    1\n",
      "1905.03.25      1\n",
      "1949.01.13      1\n",
      "Name: case_number2, Length: 6286, dtype: int64 \n",
      "\n"
     ]
    }
   ],
   "source": [
    "for col in cases:\n",
    "    print(cases[col].value_counts(), '\\n')"
   ]
  },
  {
   "cell_type": "markdown",
   "metadata": {},
   "source": [
    "I drop the case numbers and work with a unique index instead"
   ]
  },
  {
   "cell_type": "markdown",
   "metadata": {},
   "source": [
    "#### date"
   ]
  },
  {
   "cell_type": "code",
   "execution_count": null,
   "metadata": {},
   "outputs": [],
   "source": []
  },
  {
   "cell_type": "markdown",
   "metadata": {},
   "source": [
    "#### year"
   ]
  },
  {
   "cell_type": "code",
   "execution_count": null,
   "metadata": {},
   "outputs": [],
   "source": []
  },
  {
   "cell_type": "markdown",
   "metadata": {},
   "source": [
    "#### drop columns"
   ]
  },
  {
   "cell_type": "code",
   "execution_count": null,
   "metadata": {},
   "outputs": [],
   "source": [
    "to_drop = ['case_number',\n",
    "            'case_number1',\n",
    "            'case_number2']\n",
    "\n",
    "df.drop(to_drop, inplace=True, axis=1)\n",
    "\n",
    "df.drop(columns=to_drop, inplace=True)"
   ]
  },
  {
   "cell_type": "code",
   "execution_count": 28,
   "metadata": {},
   "outputs": [
    {
     "data": {
      "text/plain": [
       "False"
      ]
     },
     "execution_count": 28,
     "metadata": {},
     "output_type": "execute_result"
    }
   ],
   "source": [
    "data['Case Number'].is_unique"
   ]
  },
  {
   "cell_type": "code",
   "execution_count": 24,
   "metadata": {},
   "outputs": [
    {
     "data": {
      "text/plain": [
       "(25723, 24)"
      ]
     },
     "execution_count": 24,
     "metadata": {},
     "output_type": "execute_result"
    }
   ],
   "source": [
    "data.shape"
   ]
  },
  {
   "cell_type": "code",
   "execution_count": 25,
   "metadata": {},
   "outputs": [
    {
     "data": {
      "text/plain": [
       "Case Number                object\n",
       "Date                       object\n",
       "Year                      float64\n",
       "Type                       object\n",
       "Country                    object\n",
       "Area                       object\n",
       "Location                   object\n",
       "Activity                   object\n",
       "Name                       object\n",
       "Sex                        object\n",
       "Age                        object\n",
       "Injury                     object\n",
       "Fatal (Y/N)                object\n",
       "Time                       object\n",
       "Species                    object\n",
       "Investigator or Source     object\n",
       "pdf                        object\n",
       "href formula               object\n",
       "href                       object\n",
       "Case Number.1              object\n",
       "Case Number.2              object\n",
       "original order            float64\n",
       "Unnamed: 22                object\n",
       "Unnamed: 23                object\n",
       "dtype: object"
      ]
     },
     "execution_count": 25,
     "metadata": {},
     "output_type": "execute_result"
    }
   ],
   "source": [
    "data.dtypes"
   ]
  }
 ],
 "metadata": {
  "kernelspec": {
   "display_name": "Python 3",
   "language": "python",
   "name": "python3"
  },
  "language_info": {
   "codemirror_mode": {
    "name": "ipython",
    "version": 3
   },
   "file_extension": ".py",
   "mimetype": "text/x-python",
   "name": "python",
   "nbconvert_exporter": "python",
   "pygments_lexer": "ipython3",
   "version": "3.8.5"
  },
  "toc": {
   "base_numbering": 1,
   "nav_menu": {},
   "number_sections": true,
   "sideBar": true,
   "skip_h1_title": false,
   "title_cell": "Table of Contents",
   "title_sidebar": "Contents",
   "toc_cell": false,
   "toc_position": {},
   "toc_section_display": true,
   "toc_window_display": true
  }
 },
 "nbformat": 4,
 "nbformat_minor": 4
}
